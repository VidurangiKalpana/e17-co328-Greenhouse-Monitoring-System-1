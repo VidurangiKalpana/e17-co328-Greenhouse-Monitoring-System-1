{
 "cells": [
  {
   "cell_type": "code",
   "execution_count": 1,
   "id": "837d3ef4",
   "metadata": {},
   "outputs": [],
   "source": [
    "import tensorflow as tf \n",
    "from keras.models import Sequential\n",
    "from keras.layers import Convolution2D\n",
    "from keras.layers import MaxPooling2D\n",
    "from keras.layers import Flatten\n",
    "from keras.layers import Dense\n",
    "from keras.layers import Dropout\n",
    "import numpy as np\n",
    "from keras.utils.vis_utils import plot_model\n",
    "from keras.preprocessing.image import ImageDataGenerator"
   ]
  },
  {
   "cell_type": "code",
   "execution_count": 2,
   "id": "d25f12cb",
   "metadata": {},
   "outputs": [
    {
     "name": "stdout",
     "output_type": "stream",
     "text": [
      "Num GPUs Available:  1\n"
     ]
    }
   ],
   "source": [
    "from tensorflow.python.client import device_lib \n",
    "print(\"Num GPUs Available: \", len(tf.config.experimental.list_physical_devices('GPU')))"
   ]
  },
  {
   "cell_type": "code",
   "execution_count": 3,
   "id": "616641a6",
   "metadata": {},
   "outputs": [
    {
     "name": "stdout",
     "output_type": "stream",
     "text": [
      "Model: \"sequential\"\n",
      "_________________________________________________________________\n",
      "Layer (type)                 Output Shape              Param #   \n",
      "=================================================================\n",
      "conv2d (Conv2D)              (None, 42, 42, 32)        896       \n",
      "_________________________________________________________________\n",
      "max_pooling2d (MaxPooling2D) (None, 21, 21, 32)        0         \n",
      "_________________________________________________________________\n",
      "conv2d_1 (Conv2D)            (None, 7, 7, 16)          4624      \n",
      "_________________________________________________________________\n",
      "max_pooling2d_1 (MaxPooling2 (None, 3, 3, 16)          0         \n",
      "_________________________________________________________________\n",
      "flatten (Flatten)            (None, 144)               0         \n",
      "_________________________________________________________________\n",
      "dense (Dense)                (None, 128)               18560     \n",
      "_________________________________________________________________\n",
      "dropout (Dropout)            (None, 128)               0         \n",
      "_________________________________________________________________\n",
      "dense_1 (Dense)              (None, 10)                1290      \n",
      "=================================================================\n",
      "Total params: 25,370\n",
      "Trainable params: 25,370\n",
      "Non-trainable params: 0\n",
      "_________________________________________________________________\n",
      "None\n"
     ]
    }
   ],
   "source": [
    "classifier = Sequential()\n",
    "\n",
    "classifier.add(Convolution2D(32, 3, 3, input_shape = (128, 128, 3), activation = 'relu'))\n",
    "classifier.add(MaxPooling2D(pool_size = (2, 2)))\n",
    "classifier.add(Convolution2D(16, 3, 3, activation = 'relu'))\n",
    "classifier.add(MaxPooling2D(pool_size = (2, 2)))\n",
    "classifier.add(Flatten())\n",
    "classifier.add(Dense(units = 128, activation = 'relu'))\n",
    "classifier.add(Dropout(rate = 0.2))\n",
    "classifier.add(Dense(units = 10, activation = 'softmax'))\n",
    "classifier.compile(optimizer = 'adam', loss = 'categorical_crossentropy', metrics = ['accuracy'])\n",
    "print(classifier.summary())"
   ]
  },
  {
   "cell_type": "code",
   "execution_count": 4,
   "id": "8dcc2fd3",
   "metadata": {},
   "outputs": [],
   "source": [
    "train_datagen = ImageDataGenerator(\n",
    "        rescale=1./255,\n",
    "        shear_range=0.2,\n",
    "        zoom_range=0.2,\n",
    "        horizontal_flip=True)\n",
    "\n",
    "test_datagen = ImageDataGenerator(rescale=1./255)"
   ]
  },
  {
   "cell_type": "code",
   "execution_count": 5,
   "id": "f34f8b0b",
   "metadata": {},
   "outputs": [],
   "source": [
    "train_path = r'train'\n",
    "test_path = r'val'"
   ]
  },
  {
   "cell_type": "code",
   "execution_count": 6,
   "id": "4cb8e427",
   "metadata": {},
   "outputs": [
    {
     "name": "stdout",
     "output_type": "stream",
     "text": [
      "Found 10000 images belonging to 10 classes.\n"
     ]
    }
   ],
   "source": [
    "training_set = train_datagen.flow_from_directory(\n",
    "        train_path,\n",
    "        target_size=(128, 128),\n",
    "        batch_size=64,\n",
    "        class_mode='categorical' )"
   ]
  },
  {
   "cell_type": "code",
   "execution_count": 7,
   "id": "f6f15544",
   "metadata": {},
   "outputs": [
    {
     "name": "stdout",
     "output_type": "stream",
     "text": [
      "{'Tomato___Bacterial_spot': 0, 'Tomato___Early_blight': 1, 'Tomato___Late_blight': 2, 'Tomato___Leaf_Mold': 3, 'Tomato___Septoria_leaf_spot': 4, 'Tomato___Spider_mites Two-spotted_spider_mite': 5, 'Tomato___Target_Spot': 6, 'Tomato___Tomato_Yellow_Leaf_Curl_Virus': 7, 'Tomato___Tomato_mosaic_virus': 8, 'Tomato___healthy': 9}\n"
     ]
    }
   ],
   "source": [
    "label_map = (training_set.class_indices)\n",
    "print(label_map)"
   ]
  },
  {
   "cell_type": "code",
   "execution_count": 8,
   "id": "e7b41c1b",
   "metadata": {},
   "outputs": [
    {
     "name": "stdout",
     "output_type": "stream",
     "text": [
      "Found 1000 images belonging to 10 classes.\n"
     ]
    }
   ],
   "source": [
    "test_set = test_datagen.flow_from_directory(\n",
    "        test_path,\n",
    "        target_size=(128, 128),\n",
    "        batch_size=64,\n",
    "        class_mode='categorical')"
   ]
  },
  {
   "cell_type": "code",
   "execution_count": 9,
   "id": "41f553b3",
   "metadata": {},
   "outputs": [
    {
     "name": "stderr",
     "output_type": "stream",
     "text": [
      "c:\\users\\vishva navanjana\\appdata\\local\\programs\\python\\python39\\lib\\site-packages\\keras\\engine\\training.py:1915: UserWarning: `Model.fit_generator` is deprecated and will be removed in a future version. Please use `Model.fit`, which supports generators.\n",
      "  warnings.warn('`Model.fit_generator` is deprecated and '\n"
     ]
    },
    {
     "name": "stdout",
     "output_type": "stream",
     "text": [
      "Epoch 1/100\n",
      "20/20 [==============================] - ETA: 0s - loss: 2.3079 - accuracy: 0.1148WARNING:tensorflow:Your input ran out of data; interrupting training. Make sure that your dataset or generator can generate at least `steps_per_epoch * epochs` batches (in this case, 100 batches). You may need to use the repeat() function when building your dataset.\n",
      "20/20 [==============================] - 32s 465ms/step - loss: 2.3075 - accuracy: 0.1150 - val_loss: 2.2930 - val_accuracy: 0.1110\n",
      "Epoch 2/100\n",
      "20/20 [==============================] - 7s 358ms/step - loss: 2.2854 - accuracy: 0.1538\n",
      "Epoch 3/100\n",
      "20/20 [==============================] - 7s 365ms/step - loss: 2.2359 - accuracy: 0.1467\n",
      "Epoch 4/100\n",
      "20/20 [==============================] - 7s 375ms/step - loss: 2.0898 - accuracy: 0.2645\n",
      "Epoch 5/100\n",
      "20/20 [==============================] - 7s 354ms/step - loss: 1.9975 - accuracy: 0.2833\n",
      "Epoch 6/100\n",
      "20/20 [==============================] - 7s 353ms/step - loss: 1.8999 - accuracy: 0.3137\n",
      "Epoch 7/100\n",
      "20/20 [==============================] - 7s 354ms/step - loss: 1.7839 - accuracy: 0.3854\n",
      "Epoch 8/100\n",
      "20/20 [==============================] - 7s 342ms/step - loss: 1.6246 - accuracy: 0.4506\n",
      "Epoch 9/100\n",
      "20/20 [==============================] - 7s 356ms/step - loss: 1.5967 - accuracy: 0.4471\n",
      "Epoch 10/100\n",
      "20/20 [==============================] - 7s 352ms/step - loss: 1.5420 - accuracy: 0.4811\n",
      "Epoch 11/100\n",
      "20/20 [==============================] - 7s 354ms/step - loss: 1.5359 - accuracy: 0.4676\n",
      "Epoch 12/100\n",
      "20/20 [==============================] - 7s 359ms/step - loss: 1.4447 - accuracy: 0.5089\n",
      "Epoch 13/100\n",
      "20/20 [==============================] - 7s 355ms/step - loss: 1.3931 - accuracy: 0.5273\n",
      "Epoch 14/100\n",
      "20/20 [==============================] - 7s 358ms/step - loss: 1.2990 - accuracy: 0.5510\n",
      "Epoch 15/100\n",
      "20/20 [==============================] - 7s 357ms/step - loss: 1.2559 - accuracy: 0.5983\n",
      "Epoch 16/100\n",
      "20/20 [==============================] - 7s 340ms/step - loss: 1.2331 - accuracy: 0.5774\n",
      "Epoch 17/100\n",
      "20/20 [==============================] - 7s 355ms/step - loss: 1.3337 - accuracy: 0.5504\n",
      "Epoch 18/100\n",
      "20/20 [==============================] - 7s 358ms/step - loss: 1.2143 - accuracy: 0.6042\n",
      "Epoch 19/100\n",
      "20/20 [==============================] - 8s 381ms/step - loss: 1.1914 - accuracy: 0.5874\n",
      "Epoch 20/100\n",
      "20/20 [==============================] - 8s 377ms/step - loss: 1.2110 - accuracy: 0.5839\n",
      "Epoch 21/100\n",
      "20/20 [==============================] - 8s 421ms/step - loss: 1.1971 - accuracy: 0.5974\n",
      "Epoch 22/100\n",
      "20/20 [==============================] - 8s 415ms/step - loss: 1.0960 - accuracy: 0.6288\n",
      "Epoch 23/100\n",
      "20/20 [==============================] - 10s 472ms/step - loss: 1.1020 - accuracy: 0.6333\n",
      "Epoch 24/100\n",
      "20/20 [==============================] - 10s 528ms/step - loss: 1.0798 - accuracy: 0.6359\n",
      "Epoch 25/100\n",
      "20/20 [==============================] - 9s 465ms/step - loss: 1.1017 - accuracy: 0.6165\n",
      "Epoch 26/100\n",
      "20/20 [==============================] - 8s 416ms/step - loss: 1.0679 - accuracy: 0.6200\n",
      "Epoch 27/100\n",
      "20/20 [==============================] - 9s 436ms/step - loss: 1.0289 - accuracy: 0.6578\n",
      "Epoch 28/100\n",
      "20/20 [==============================] - 8s 395ms/step - loss: 1.0279 - accuracy: 0.6413\n",
      "Epoch 29/100\n",
      "20/20 [==============================] - 8s 384ms/step - loss: 0.9577 - accuracy: 0.6744\n",
      "Epoch 30/100\n",
      "20/20 [==============================] - 7s 370ms/step - loss: 0.9586 - accuracy: 0.6716\n",
      "Epoch 31/100\n",
      "20/20 [==============================] - 7s 359ms/step - loss: 0.9406 - accuracy: 0.6895\n",
      "Epoch 32/100\n",
      "20/20 [==============================] - 7s 343ms/step - loss: 0.9366 - accuracy: 0.6710\n",
      "Epoch 33/100\n",
      "20/20 [==============================] - 10s 501ms/step - loss: 0.9999 - accuracy: 0.6439\n",
      "Epoch 34/100\n",
      "20/20 [==============================] - 9s 429ms/step - loss: 0.9096 - accuracy: 0.6938\n",
      "Epoch 35/100\n",
      "20/20 [==============================] - 8s 383ms/step - loss: 0.8381 - accuracy: 0.6939\n",
      "Epoch 36/100\n",
      "20/20 [==============================] - 7s 360ms/step - loss: 0.8790 - accuracy: 0.7012\n",
      "Epoch 37/100\n",
      "20/20 [==============================] - 7s 359ms/step - loss: 0.8861 - accuracy: 0.6861\n",
      "Epoch 38/100\n",
      "20/20 [==============================] - 7s 357ms/step - loss: 0.8369 - accuracy: 0.7058\n",
      "Epoch 39/100\n",
      "20/20 [==============================] - 7s 353ms/step - loss: 0.7905 - accuracy: 0.7200\n",
      "Epoch 40/100\n",
      "20/20 [==============================] - 7s 368ms/step - loss: 0.8110 - accuracy: 0.7383\n",
      "Epoch 41/100\n",
      "20/20 [==============================] - 8s 395ms/step - loss: 0.8390 - accuracy: 0.6957\n",
      "Epoch 42/100\n",
      "20/20 [==============================] - 7s 361ms/step - loss: 0.8696 - accuracy: 0.6959\n",
      "Epoch 43/100\n",
      "20/20 [==============================] - 7s 359ms/step - loss: 0.8325 - accuracy: 0.7066\n",
      "Epoch 44/100\n",
      "20/20 [==============================] - 7s 354ms/step - loss: 0.7945 - accuracy: 0.7202\n",
      "Epoch 45/100\n",
      "20/20 [==============================] - 7s 355ms/step - loss: 0.7687 - accuracy: 0.7286\n",
      "Epoch 46/100\n",
      "20/20 [==============================] - 7s 357ms/step - loss: 0.7861 - accuracy: 0.7240\n",
      "Epoch 47/100\n",
      "20/20 [==============================] - 7s 359ms/step - loss: 0.8262 - accuracy: 0.7335\n",
      "Epoch 48/100\n",
      "20/20 [==============================] - 8s 380ms/step - loss: 0.7750 - accuracy: 0.7458\n",
      "Epoch 49/100\n",
      "20/20 [==============================] - 7s 372ms/step - loss: 0.6888 - accuracy: 0.7717\n",
      "Epoch 50/100\n",
      "20/20 [==============================] - 7s 369ms/step - loss: 0.7394 - accuracy: 0.7439\n",
      "Epoch 51/100\n",
      "20/20 [==============================] - 7s 362ms/step - loss: 0.7725 - accuracy: 0.7207\n",
      "Epoch 52/100\n",
      "20/20 [==============================] - 7s 355ms/step - loss: 0.7347 - accuracy: 0.7423\n",
      "Epoch 53/100\n",
      "20/20 [==============================] - 7s 354ms/step - loss: 0.7359 - accuracy: 0.7375\n",
      "Epoch 54/100\n",
      "20/20 [==============================] - 7s 360ms/step - loss: 0.7412 - accuracy: 0.7590\n",
      "Epoch 55/100\n",
      "20/20 [==============================] - 7s 339ms/step - loss: 0.6864 - accuracy: 0.7724\n",
      "Epoch 56/100\n",
      "20/20 [==============================] - 7s 375ms/step - loss: 0.7237 - accuracy: 0.7626\n",
      "Epoch 57/100\n",
      "20/20 [==============================] - 8s 376ms/step - loss: 0.6864 - accuracy: 0.7653\n",
      "Epoch 58/100\n",
      "20/20 [==============================] - 7s 369ms/step - loss: 0.6666 - accuracy: 0.7647\n",
      "Epoch 59/100\n",
      "20/20 [==============================] - 7s 357ms/step - loss: 0.6864 - accuracy: 0.7615\n",
      "Epoch 60/100\n",
      "20/20 [==============================] - 7s 356ms/step - loss: 0.6901 - accuracy: 0.7599\n",
      "Epoch 61/100\n",
      "20/20 [==============================] - 7s 355ms/step - loss: 0.6434 - accuracy: 0.7728\n",
      "Epoch 62/100\n",
      "20/20 [==============================] - 7s 353ms/step - loss: 0.6880 - accuracy: 0.7594\n",
      "Epoch 63/100\n",
      "20/20 [==============================] - 7s 339ms/step - loss: 0.6561 - accuracy: 0.7786\n",
      "Epoch 64/100\n",
      "20/20 [==============================] - 7s 364ms/step - loss: 0.6477 - accuracy: 0.7577\n",
      "Epoch 65/100\n",
      "20/20 [==============================] - 7s 354ms/step - loss: 0.7060 - accuracy: 0.7585\n",
      "Epoch 66/100\n",
      "20/20 [==============================] - 7s 353ms/step - loss: 0.6824 - accuracy: 0.7759\n",
      "Epoch 67/100\n",
      "20/20 [==============================] - 7s 355ms/step - loss: 0.6230 - accuracy: 0.7905\n",
      "Epoch 68/100\n",
      "20/20 [==============================] - 7s 359ms/step - loss: 0.6957 - accuracy: 0.7677\n",
      "Epoch 69/100\n",
      "20/20 [==============================] - 7s 352ms/step - loss: 0.5951 - accuracy: 0.7970\n",
      "Epoch 70/100\n",
      "20/20 [==============================] - 7s 354ms/step - loss: 0.6282 - accuracy: 0.7778\n",
      "Epoch 71/100\n",
      "20/20 [==============================] - 7s 357ms/step - loss: 0.6509 - accuracy: 0.7753\n",
      "Epoch 72/100\n",
      "20/20 [==============================] - 7s 362ms/step - loss: 0.6256 - accuracy: 0.7784\n",
      "Epoch 73/100\n",
      "20/20 [==============================] - 7s 353ms/step - loss: 0.6560 - accuracy: 0.7666\n",
      "Epoch 74/100\n",
      "20/20 [==============================] - 7s 356ms/step - loss: 0.5941 - accuracy: 0.8006\n",
      "Epoch 75/100\n",
      "20/20 [==============================] - 7s 353ms/step - loss: 0.6368 - accuracy: 0.7783\n",
      "Epoch 76/100\n",
      "20/20 [==============================] - 7s 363ms/step - loss: 0.5848 - accuracy: 0.8082\n",
      "Epoch 77/100\n"
     ]
    },
    {
     "name": "stdout",
     "output_type": "stream",
     "text": [
      "20/20 [==============================] - 7s 361ms/step - loss: 0.6008 - accuracy: 0.8019\n",
      "Epoch 78/100\n",
      "20/20 [==============================] - 7s 356ms/step - loss: 0.5526 - accuracy: 0.8140\n",
      "Epoch 79/100\n",
      "20/20 [==============================] - 7s 339ms/step - loss: 0.6394 - accuracy: 0.7724\n",
      "Epoch 80/100\n",
      "20/20 [==============================] - 7s 352ms/step - loss: 0.6272 - accuracy: 0.7871\n",
      "Epoch 81/100\n",
      "20/20 [==============================] - 7s 360ms/step - loss: 0.5721 - accuracy: 0.8017\n",
      "Epoch 82/100\n",
      "20/20 [==============================] - 7s 357ms/step - loss: 0.6410 - accuracy: 0.7543\n",
      "Epoch 83/100\n",
      "20/20 [==============================] - 7s 359ms/step - loss: 0.5369 - accuracy: 0.8095\n",
      "Epoch 84/100\n",
      "20/20 [==============================] - 8s 373ms/step - loss: 0.6021 - accuracy: 0.7808\n",
      "Epoch 85/100\n",
      "20/20 [==============================] - 7s 360ms/step - loss: 0.5296 - accuracy: 0.8298\n",
      "Epoch 86/100\n",
      "20/20 [==============================] - 7s 366ms/step - loss: 0.5630 - accuracy: 0.8138\n",
      "Epoch 87/100\n",
      "20/20 [==============================] - 7s 340ms/step - loss: 0.5038 - accuracy: 0.8275\n",
      "Epoch 88/100\n",
      "20/20 [==============================] - 7s 360ms/step - loss: 0.5287 - accuracy: 0.8175\n",
      "Epoch 89/100\n",
      "20/20 [==============================] - 7s 366ms/step - loss: 0.5651 - accuracy: 0.8114\n",
      "Epoch 90/100\n",
      "20/20 [==============================] - 9s 433ms/step - loss: 0.5231 - accuracy: 0.8151\n",
      "Epoch 91/100\n",
      "20/20 [==============================] - 8s 403ms/step - loss: 0.5218 - accuracy: 0.8112\n",
      "Epoch 92/100\n",
      "20/20 [==============================] - 7s 373ms/step - loss: 0.5232 - accuracy: 0.8109\n",
      "Epoch 93/100\n",
      "20/20 [==============================] - 8s 387ms/step - loss: 0.5305 - accuracy: 0.8115\n",
      "Epoch 94/100\n",
      "20/20 [==============================] - 7s 359ms/step - loss: 0.5754 - accuracy: 0.7964\n",
      "Epoch 95/100\n",
      "20/20 [==============================] - 7s 369ms/step - loss: 0.5779 - accuracy: 0.8115\n",
      "Epoch 96/100\n",
      "20/20 [==============================] - 8s 395ms/step - loss: 0.4911 - accuracy: 0.8238\n",
      "Epoch 97/100\n",
      "20/20 [==============================] - 7s 370ms/step - loss: 0.5291 - accuracy: 0.8033\n",
      "Epoch 98/100\n",
      "20/20 [==============================] - 7s 368ms/step - loss: 0.5299 - accuracy: 0.8061\n",
      "Epoch 99/100\n",
      "20/20 [==============================] - 7s 366ms/step - loss: 0.5659 - accuracy: 0.8195\n",
      "Epoch 100/100\n",
      "20/20 [==============================] - 7s 368ms/step - loss: 0.5835 - accuracy: 0.7982\n"
     ]
    }
   ],
   "source": [
    "def my_gen(gen):\n",
    "    while True:\n",
    "        try:\n",
    "            data, labels = next(gen)\n",
    "            yield data, labels\n",
    "        except:\n",
    "            pass\n",
    "\n",
    "\n",
    "results = classifier.fit_generator(\n",
    "        my_gen(training_set),\n",
    "        steps_per_epoch=20,\n",
    "        epochs=100,\n",
    "        validation_data=test_set,\n",
    "        validation_steps=100)"
   ]
  },
  {
   "cell_type": "code",
   "execution_count": 11,
   "id": "0a4ef56c",
   "metadata": {},
   "outputs": [
    {
     "name": "stdout",
     "output_type": "stream",
     "text": [
      "Saved trained model as keras_potato_trained_model_weights.h5 \n"
     ]
    }
   ],
   "source": [
    "classifier.save_weights('keras_potato_trained_model_weights.h5')\n",
    "print('Saved trained model as %s ' % 'keras_potato_trained_model_weights.h5')"
   ]
  },
  {
   "cell_type": "code",
   "execution_count": null,
   "id": "f7c37d8b",
   "metadata": {},
   "outputs": [],
   "source": []
  }
 ],
 "metadata": {
  "kernelspec": {
   "display_name": "Python 3",
   "language": "python",
   "name": "python3"
  },
  "language_info": {
   "codemirror_mode": {
    "name": "ipython",
    "version": 3
   },
   "file_extension": ".py",
   "mimetype": "text/x-python",
   "name": "python",
   "nbconvert_exporter": "python",
   "pygments_lexer": "ipython3",
   "version": "3.9.5"
  }
 },
 "nbformat": 4,
 "nbformat_minor": 5
}
